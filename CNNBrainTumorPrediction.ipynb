{
  "nbformat": 4,
  "nbformat_minor": 0,
  "metadata": {
    "colab": {
      "provenance": []
    },
    "kernelspec": {
      "name": "python3",
      "display_name": "Python 3"
    },
    "language_info": {
      "name": "python"
    }
  },
  "cells": [
    {
      "cell_type": "markdown",
      "source": [
        "Let's do a convolutional neural network with keras in order to detect several brain tumors based on MRI"
      ],
      "metadata": {
        "id": "CZ1jxJVvj1FT"
      }
    },
    {
      "cell_type": "code",
      "execution_count": null,
      "metadata": {
        "id": "ghK2c7Mc1vCP"
      },
      "outputs": [],
      "source": [
        "import tensorflow as tf\n",
        "import matplotlib.pyplot as plt\n",
        "import numpy as np\n",
        "import tqdm\n",
        "import random\n",
        "import pandas as pd\n",
        "import cv2\n",
        "import glob as gb\n",
        "import os\n",
        "from tensorflow import keras\n",
        "from tensorflow.keras import layers\n"
      ]
    },
    {
      "cell_type": "code",
      "source": [
        "code = {'glioma': 0, 'meningioma': 1, 'notumor': 2, 'pituitary': 3}"
      ],
      "metadata": {
        "id": "HXZcsMEx8c07"
      },
      "execution_count": null,
      "outputs": []
    },
    {
      "cell_type": "code",
      "source": [
        "#function to return the name of the categorie based on the on a hot encoding\n",
        "def getcode(array) :\n",
        "    n=np.argmax(array)\n",
        "    for x , y in code.items() :\n",
        "        if n == y :\n",
        "            return x\n"
      ],
      "metadata": {
        "id": "1nFhtAtb8mbN"
      },
      "execution_count": null,
      "outputs": []
    },
    {
      "cell_type": "code",
      "source": [
        "#fetching for the training data in my drive\n",
        "gliomaFiles = gb.glob(pathname= '/content/drive/MyDrive/CancerPrediction/Training/glioma/*.jpg')\n",
        "pituitaryFiles = gb.glob(pathname=  '/content/drive/MyDrive/CancerPrediction/Training/pituitary/*.jpg')\n",
        "noTumorFiles = gb.glob(pathname= '/content/drive/MyDrive/CancerPrediction/Training/notumor/*.jpg')\n",
        "meningiomaFiles = gb.glob(pathname= '/content/drive/MyDrive/CancerPrediction/Training/meningioma/*.jpg')"
      ],
      "metadata": {
        "id": "KsJeDC68-tXz"
      },
      "execution_count": null,
      "outputs": []
    },
    {
      "cell_type": "code",
      "source": [
        "#fetching for the test data in my drive\n",
        "gliomaFilestest = gb.glob(pathname= '/content/drive/MyDrive/CancerPrediction/Testing/glioma/*.jpg')\n",
        "pituitaryFilestest = gb.glob(pathname=  '/content/drive/MyDrive/CancerPrediction/Testing/pituitary/*.jpg')\n",
        "noTumorFilestest = gb.glob(pathname= '/content/drive/MyDrive/CancerPrediction/Testing/notumor/*.jpg')\n",
        "meningiomaFilestest = gb.glob(pathname= '/content/drive/MyDrive/CancerPrediction/Testing/meningioma/*.jpg')"
      ],
      "metadata": {
        "id": "2MxV21rWtU07"
      },
      "execution_count": null,
      "outputs": []
    },
    {
      "cell_type": "code",
      "source": [
        "print(len(gliomaFiles))\n",
        "print(len(meningiomaFiles))\n",
        "print(len(noTumorFiles))\n",
        "print(len(meningiomaFiles))"
      ],
      "metadata": {
        "colab": {
          "base_uri": "https://localhost:8080/"
        },
        "id": "OlHkGn4C_waM",
        "outputId": "dd1238c3-e2ab-41ff-8903-0e950602805e"
      },
      "execution_count": null,
      "outputs": [
        {
          "output_type": "stream",
          "name": "stdout",
          "text": [
            "1321\n",
            "1339\n",
            "1595\n",
            "1339\n"
          ]
        }
      ]
    },
    {
      "cell_type": "code",
      "source": [
        "# resizing the image and doing the one hot encoding from scratch\n",
        "s = 64\n",
        "X_train = []\n",
        "y_train = []\n",
        "for file in gliomaFiles:\n",
        "        image = cv2.imread(file)\n",
        "        image_array = cv2.resize(image , (s,s))#resize all images\n",
        "        X_train.append(list(image_array))#list all images after resize in x_train\n",
        "        y_train.append([1,0,0,0])\n",
        "for file in meningiomaFiles:\n",
        "        image = cv2.imread(file)\n",
        "        image_array = cv2.resize(image , (s,s))#resize all images\n",
        "        X_train.append(list(image_array))#list all images after resize in x_train\n",
        "        y_train.append([0,1,0,0])\n",
        "for file in noTumorFiles:\n",
        "        image = cv2.imread(file)\n",
        "        image_array = cv2.resize(image , (s,s))#resize all images\n",
        "        X_train.append(list(image_array))#list all images after resize in x_train\n",
        "        y_train.append([0,0,1,0])\n",
        "for file in pituitaryFiles:\n",
        "        image = cv2.imread(file)\n",
        "        image_array = cv2.resize(image , (s,s))#resize all images\n",
        "        X_train.append(list(image_array))#list all images after resize in x_train\n",
        "        y_train.append([0,0,0,1])"
      ],
      "metadata": {
        "id": "4cCeGPuDCjwC"
      },
      "execution_count": null,
      "outputs": []
    },
    {
      "cell_type": "code",
      "source": [
        "s = 64\n",
        "X_test = []\n",
        "y_test = []\n",
        "for file in gliomaFilestest:\n",
        "        image = cv2.imread(file)\n",
        "        image_array = cv2.resize(image , (s,s))#resize all images\n",
        "        X_test.append(list(image_array))#list all images after resize in x_train\n",
        "        y_test.append([1,0,0,0])\n",
        "for file in meningiomaFilestest:\n",
        "        image = cv2.imread(file)\n",
        "        image_array = cv2.resize(image , (s,s))#resize all images\n",
        "        X_test.append(list(image_array))#list all images after resize in x_train\n",
        "        y_test.append([0,1,0,0])\n",
        "for file in noTumorFilestest:\n",
        "        image = cv2.imread(file)\n",
        "        image_array = cv2.resize(image , (s,s))#resize all images\n",
        "        X_test.append(list(image_array))#list all images after resize in x_train\n",
        "        y_test.append([0,0,1,0])\n",
        "for file in pituitaryFilestest:\n",
        "        image = cv2.imread(file)\n",
        "        image_array = cv2.resize(image , (s,s))#resize all images\n",
        "        X_test.append(list(image_array))#list all images after resize in x_train\n",
        "        y_test.append([0,0,0,1])"
      ],
      "metadata": {
        "id": "jTWVVAvZFyK-"
      },
      "execution_count": null,
      "outputs": []
    },
    {
      "cell_type": "code",
      "source": [
        "print(f'we have {len(X_train)} items in X_train')\n",
        "print(f'we have {len(y_train)} items in Y_train')"
      ],
      "metadata": {
        "colab": {
          "base_uri": "https://localhost:8080/"
        },
        "id": "ooMbqJAPDAdZ",
        "outputId": "23a14d8a-0a8c-4341-d2c4-8660dd0a8f9e"
      },
      "execution_count": null,
      "outputs": [
        {
          "output_type": "stream",
          "name": "stdout",
          "text": [
            "we have 5712 items in X_train\n",
            "we have 5712 items in Y_train\n"
          ]
        }
      ]
    },
    {
      "cell_type": "code",
      "source": [
        "X_train = np.array(X_train)\n",
        "y_train = np.array(y_train)\n",
        "\n",
        "X_test = np.array(X_test)\n",
        "y_test = np.array(y_test)\n"
      ],
      "metadata": {
        "id": "1CGCNvJJIJ4i"
      },
      "execution_count": null,
      "outputs": []
    },
    {
      "cell_type": "code",
      "source": [
        "#example of what our files look like\n",
        "plt.imshow(X_train[6])\n",
        "print(X_train[6].shape)"
      ],
      "metadata": {
        "colab": {
          "base_uri": "https://localhost:8080/",
          "height": 285
        },
        "id": "QP_MYDoVxX5J",
        "outputId": "c3871a0d-2748-48fa-fa27-c851fc1ec5c5"
      },
      "execution_count": null,
      "outputs": [
        {
          "output_type": "stream",
          "name": "stdout",
          "text": [
            "(64, 64, 3)\n"
          ]
        },
        {
          "output_type": "display_data",
          "data": {
            "text/plain": [
              "<Figure size 432x288 with 1 Axes>"
            ],
            "image/png": "[encoded data removed]"
          },
          "metadata": {
            "needs_background": "light"
          }
        }
      ]
    },
    {
      "cell_type": "code",
      "source": [
        "X_train.shape"
      ],
      "metadata": {
        "colab": {
          "base_uri": "https://localhost:8080/"
        },
        "id": "dm16Rb2WBcWA",
        "outputId": "b359ea73-a265-4e38-e98a-ab7248478950"
      },
      "execution_count": null,
      "outputs": [
        {
          "output_type": "execute_result",
          "data": {
            "text/plain": [
              "(5712, 64, 64, 3)"
            ]
          },
          "metadata": {},
          "execution_count": 57
        }
      ]
    },
    {
      "cell_type": "markdown",
      "source": [
        "Now we are going to build are CNN with keras"
      ],
      "metadata": {
        "id": "9Rm10cm4mIWD"
      }
    },
    {
      "cell_type": "code",
      "source": [
        "\n",
        "model = keras.Sequential()\n",
        "\n",
        "model.add(layers.Conv2D(filters=32,kernel_size=(3,3),input_shape=(64, 64, 3,), activation=\"relu\", padding=\"same\"))\n",
        "model.add(layers.BatchNormalization())\n",
        "model.add(layers.MaxPooling2D(pool_size=(2,2)))\n",
        "\n",
        "model.add(layers.Conv2D(128,(7,7), padding='same', activation='relu'))\n",
        "model.add(layers.BatchNormalization())\n",
        "model.add(layers.MaxPooling2D(pool_size=(2,2)))\n",
        "\n",
        "model.add(layers.Conv2D(256,(7,7), padding='same', activation='relu'))\n",
        "model.add(layers.BatchNormalization())\n",
        "model.add(layers.MaxPooling2D(pool_size=(2,2)))\n",
        "\n",
        "model.add(layers.Conv2D(256,(7,7), padding='same', activation='relu'))\n",
        "model.add(layers.BatchNormalization())\n",
        "model.add(layers.MaxPooling2D(pool_size=(2,2)))\n",
        "\n",
        "model.add(layers.Flatten())\n",
        "\n",
        "\n",
        "model.add(layers.Dense(units=512, activation='relu'))\n",
        "\n",
        "model.add(layers.Dense(units=4, activation='softmax'))\n",
        "\n"
      ],
      "metadata": {
        "id": "yd4aqIdrInp8"
      },
      "execution_count": null,
      "outputs": []
    },
    {
      "cell_type": "code",
      "source": [
        "#Allow to stop the training when the loss has not improved\n",
        "callback = keras.callbacks.EarlyStopping(monitor='loss',\n",
        "                                             patience=3)\n"
      ],
      "metadata": {
        "id": "k2YTUTMHpIUK"
      },
      "execution_count": null,
      "outputs": []
    },
    {
      "cell_type": "code",
      "source": [
        "model.compile(optimizer=keras.optimizers.SGD(learning_rate=0.001), loss='categorical_crossentropy',\n",
        "                   metrics= ['categorical_accuracy'])\n"
      ],
      "metadata": {
        "id": "PlHkZJmImfdm"
      },
      "execution_count": null,
      "outputs": []
    },
    {
      "cell_type": "code",
      "source": [
        "model.summary()"
      ],
      "metadata": {
        "colab": {
          "base_uri": "https://localhost:8080/"
        },
        "id": "Esf2nrDdxl1n",
        "outputId": "ffa4019b-946f-4490-cdc9-c3fe36da49f8"
      },
      "execution_count": null,
      "outputs": [
        {
          "output_type": "stream",
          "name": "stdout",
          "text": [
            "Model: \"sequential_5\"\n",
            "_________________________________________________________________\n",
            " Layer (type)                Output Shape              Param #   \n",
            "=================================================================\n",
            " conv2d_14 (Conv2D)          (None, 64, 64, 32)        896       \n",
            "                                                                 \n",
            " batch_normalization_13 (Bat  (None, 64, 64, 32)       128       \n",
            " chNormalization)                                                \n",
            "                                                                 \n",
            " max_pooling2d_13 (MaxPoolin  (None, 32, 32, 32)       0         \n",
            " g2D)                                                            \n",
            "                                                                 \n",
            " conv2d_15 (Conv2D)          (None, 32, 32, 128)       200832    \n",
            "                                                                 \n",
            " batch_normalization_14 (Bat  (None, 32, 32, 128)      512       \n",
            " chNormalization)                                                \n",
            "                                                                 \n",
            " max_pooling2d_14 (MaxPoolin  (None, 16, 16, 128)      0         \n",
            " g2D)                                                            \n",
            "                                                                 \n",
            " conv2d_16 (Conv2D)          (None, 16, 16, 256)       1605888   \n",
            "                                                                 \n",
            " batch_normalization_15 (Bat  (None, 16, 16, 256)      1024      \n",
            " chNormalization)                                                \n",
            "                                                                 \n",
            " max_pooling2d_15 (MaxPoolin  (None, 8, 8, 256)        0         \n",
            " g2D)                                                            \n",
            "                                                                 \n",
            " conv2d_17 (Conv2D)          (None, 8, 8, 256)         3211520   \n",
            "                                                                 \n",
            " batch_normalization_16 (Bat  (None, 8, 8, 256)        1024      \n",
            " chNormalization)                                                \n",
            "                                                                 \n",
            " max_pooling2d_16 (MaxPoolin  (None, 4, 4, 256)        0         \n",
            " g2D)                                                            \n",
            "                                                                 \n",
            " flatten_3 (Flatten)         (None, 4096)              0         \n",
            "                                                                 \n",
            " dense_6 (Dense)             (None, 512)               2097664   \n",
            "                                                                 \n",
            " dense_7 (Dense)             (None, 4)                 2052      \n",
            "                                                                 \n",
            "=================================================================\n",
            "Total params: 7,121,540\n",
            "Trainable params: 7,120,196\n",
            "Non-trainable params: 1,344\n",
            "_________________________________________________________________\n"
          ]
        }
      ]
    },
    {
      "cell_type": "code",
      "source": [
        "history=model.fit(X_train,y_train,batch_size=40,callbacks=[callback],epochs=32,shuffle=True, validation_data=(X_test, y_test),validation_batch_size=8)\n"
      ],
      "metadata": {
        "id": "NU1llbi02IkV"
      },
      "execution_count": null,
      "outputs": []
    },
    {
      "cell_type": "code",
      "source": [
        "model.save(\"BrainTumorModel\")"
      ],
      "metadata": {
        "colab": {
          "base_uri": "https://localhost:8080/"
        },
        "id": "sRwGKNjxpw8f",
        "outputId": "7e9dd32a-5897-4c6a-920b-185f26a3ff87"
      },
      "execution_count": null,
      "outputs": [
        {
          "output_type": "stream",
          "name": "stderr",
          "text": [
            "WARNING:absl:Found untraced functions such as _jit_compiled_convolution_op, _jit_compiled_convolution_op, _jit_compiled_convolution_op, _jit_compiled_convolution_op while saving (showing 4 of 4). These functions will not be directly callable after loading.\n"
          ]
        }
      ]
    },
    {
      "cell_type": "code",
      "source": [
        "y_pred=model.predict(X_test)"
      ],
      "metadata": {
        "colab": {
          "base_uri": "https://localhost:8080/"
        },
        "id": "ntz3HoDmxDep",
        "outputId": "b3455df9-5224-4b73-cf54-ab82c8651ab6"
      },
      "execution_count": null,
      "outputs": [
        {
          "output_type": "stream",
          "name": "stdout",
          "text": [
            "41/41 [==============================] - 38s 915ms/step\n"
          ]
        }
      ]
    },
    {
      "cell_type": "markdown",
      "source": [
        "Let's visualize our results"
      ],
      "metadata": {
        "id": "NAvnTwXEoUHo"
      }
    },
    {
      "cell_type": "code",
      "source": [
        "from sklearn.metrics import confusion_matrix\n",
        "import pandas as pd\n",
        "import seaborn as sns"
      ],
      "metadata": {
        "id": "uxb5yluBxdt-"
      },
      "execution_count": null,
      "outputs": []
    },
    {
      "cell_type": "code",
      "source": [
        "y_pred=np.argmax(y_pred, axis=1)\n",
        "y_test=np.argmax(y_test, axis=1)\n",
        "cm = confusion_matrix(y_test, y_pred)"
      ],
      "metadata": {
        "id": "CJQ7PE1exZuw"
      },
      "execution_count": null,
      "outputs": []
    },
    {
      "cell_type": "code",
      "source": [
        "cm_df = pd.DataFrame(cm,\n",
        "                     index =['glioma', 'meningioma', 'notumor', 'pituitary'],\n",
        "                     columns = ['glioma', 'meningioma', 'notumor', 'pituitary'])"
      ],
      "metadata": {
        "id": "h7RAAEYLjH94"
      },
      "execution_count": null,
      "outputs": []
    },
    {
      "cell_type": "code",
      "source": [
        "plt.figure(figsize=(5,4))\n",
        "sns.heatmap(cm_df, annot=True)\n",
        "plt.title('Confusion Matrix')\n",
        "plt.ylabel('Actal Values')\n",
        "plt.xlabel('Predicted Values')\n",
        "plt.show()"
      ],
      "metadata": {
        "colab": {
          "base_uri": "https://localhost:8080/",
          "height": 295
        },
        "id": "ZR3FP9ngjf9o",
        "outputId": "6d23d70d-72c9-4898-fef5-d2a417addb26"
      },
      "execution_count": null,
      "outputs": [
        {
          "output_type": "display_data",
          "data": {
            "text/plain": [
              "<Figure size 360x288 with 2 Axes>"
            ],
            "image/png": "[encoded data removed]"
          },
          "metadata": {
            "needs_background": "light"
          }
        }
      ]
    }
  ]
}